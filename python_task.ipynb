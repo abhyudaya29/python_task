{
 "cells": [
  {
   "cell_type": "markdown",
   "id": "52119ce5-7cf7-4f82-8566-eb303fdecb9c",
   "metadata": {},
   "source": [
    "Q2:Q2. Write a python program for encrypting a message sent to you by your friend. The logic of encryption\n",
    "should be such that, for a the output should be z. For b, the output should be y. For c, the output should\n",
    "be x respectively. Also, the whitespace should be replaced with a dollar sign. Keep the punctuation\n",
    "marks unchanged.\n",
    "Input Sentence: I want to become a Data Scientist.\n",
    "Encrypt the above input sentence using the program you just created.\n",
    "Note: Convert the given input sentence into lowercase before encrypting. The final output should be\n",
    "lowercase."
   ]
  },
  {
   "cell_type": "code",
   "execution_count": 10,
   "id": "1697a095-e4cd-4034-b9d2-3ebe0ff7b7c3",
   "metadata": {},
   "outputs": [
    {
     "name": "stdout",
     "output_type": "stream",
     "text": [
      "h$vzms$sn$adbnld$z$czsz$rbhdmshrs.\n"
     ]
    }
   ],
   "source": [
    "def encrypt_mesg(mesg):\n",
    "    \n",
    "    mesg = mesg.lower()\n",
    "    \n",
    "    map = {chr(i):\n",
    "                   chr(i-1) for i in range(97,123)}\n",
    "    map['a'] = 'z'\n",
    "    \n",
    "    mesg = mesg.replace(\" \", \"$\")\n",
    "    \n",
    "    result = \"\"\n",
    "    for char in mesg:\n",
    "        \n",
    "        if char.isalpha():\n",
    "            result += map[char]\n",
    "        \n",
    "        else:\n",
    "            result += char\n",
    "    return result\n",
    "\n",
    "user_input_sentence = \"I want to become a Data Scientist.\"\n",
    "print(encrypt_mesg(user_input_sentence))\n"
   ]
  },
  {
   "cell_type": "code",
   "execution_count": null,
   "id": "89d1daf2-370f-4011-bbc6-0027a94857b6",
   "metadata": {},
   "outputs": [],
   "source": []
  },
  {
   "cell_type": "code",
   "execution_count": null,
   "id": "75d9c733-ea7a-4d27-a9f9-30ac7e479b87",
   "metadata": {},
   "outputs": [],
   "source": []
  }
 ],
 "metadata": {
  "kernelspec": {
   "display_name": "Python 3 (ipykernel)",
   "language": "python",
   "name": "python3"
  },
  "language_info": {
   "codemirror_mode": {
    "name": "ipython",
    "version": 3
   },
   "file_extension": ".py",
   "mimetype": "text/x-python",
   "name": "python",
   "nbconvert_exporter": "python",
   "pygments_lexer": "ipython3",
   "version": "3.10.8"
  }
 },
 "nbformat": 4,
 "nbformat_minor": 5
}
